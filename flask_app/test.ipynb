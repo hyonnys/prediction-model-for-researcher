{
 "cells": [
  {
   "cell_type": "code",
   "execution_count": 116,
   "metadata": {},
   "outputs": [],
   "source": [
    "import pandas as pd\n",
    "import numpy as np\n",
    "import torch\n",
    "from sklearn.preprocessing import StandardScaler\n",
    "from sklearn.model_selection import train_test_split\n",
    "import tensorflow as tf\n",
    "import keras\n",
    "\n",
    "\n",
    "\n"
   ]
  },
  {
   "cell_type": "code",
   "execution_count": 126,
   "metadata": {},
   "outputs": [],
   "source": [
    "# CSV 파일 불러오기\n",
    "df1 = pd.read_csv('mulit_classification_data.csv')\n",
    "\n",
    "y = df1[['Pastry','Z_Scratch','K_Scatch',\t'Stains',\t'Dirtiness','Bumps','Other_Faults']]\n",
    "X = df1.drop(labels=['Pastry','Z_Scratch','K_Scatch',\t'Stains',\t'Dirtiness','Bumps','Other_Faults'],axis=1)"
   ]
  },
  {
   "cell_type": "code",
   "execution_count": 127,
   "metadata": {},
   "outputs": [
    {
     "data": {
      "text/html": [
       "<style>#sk-container-id-8 {color: black;}#sk-container-id-8 pre{padding: 0;}#sk-container-id-8 div.sk-toggleable {background-color: white;}#sk-container-id-8 label.sk-toggleable__label {cursor: pointer;display: block;width: 100%;margin-bottom: 0;padding: 0.3em;box-sizing: border-box;text-align: center;}#sk-container-id-8 label.sk-toggleable__label-arrow:before {content: \"▸\";float: left;margin-right: 0.25em;color: #696969;}#sk-container-id-8 label.sk-toggleable__label-arrow:hover:before {color: black;}#sk-container-id-8 div.sk-estimator:hover label.sk-toggleable__label-arrow:before {color: black;}#sk-container-id-8 div.sk-toggleable__content {max-height: 0;max-width: 0;overflow: hidden;text-align: left;background-color: #f0f8ff;}#sk-container-id-8 div.sk-toggleable__content pre {margin: 0.2em;color: black;border-radius: 0.25em;background-color: #f0f8ff;}#sk-container-id-8 input.sk-toggleable__control:checked~div.sk-toggleable__content {max-height: 200px;max-width: 100%;overflow: auto;}#sk-container-id-8 input.sk-toggleable__control:checked~label.sk-toggleable__label-arrow:before {content: \"▾\";}#sk-container-id-8 div.sk-estimator input.sk-toggleable__control:checked~label.sk-toggleable__label {background-color: #d4ebff;}#sk-container-id-8 div.sk-label input.sk-toggleable__control:checked~label.sk-toggleable__label {background-color: #d4ebff;}#sk-container-id-8 input.sk-hidden--visually {border: 0;clip: rect(1px 1px 1px 1px);clip: rect(1px, 1px, 1px, 1px);height: 1px;margin: -1px;overflow: hidden;padding: 0;position: absolute;width: 1px;}#sk-container-id-8 div.sk-estimator {font-family: monospace;background-color: #f0f8ff;border: 1px dotted black;border-radius: 0.25em;box-sizing: border-box;margin-bottom: 0.5em;}#sk-container-id-8 div.sk-estimator:hover {background-color: #d4ebff;}#sk-container-id-8 div.sk-parallel-item::after {content: \"\";width: 100%;border-bottom: 1px solid gray;flex-grow: 1;}#sk-container-id-8 div.sk-label:hover label.sk-toggleable__label {background-color: #d4ebff;}#sk-container-id-8 div.sk-serial::before {content: \"\";position: absolute;border-left: 1px solid gray;box-sizing: border-box;top: 0;bottom: 0;left: 50%;z-index: 0;}#sk-container-id-8 div.sk-serial {display: flex;flex-direction: column;align-items: center;background-color: white;padding-right: 0.2em;padding-left: 0.2em;position: relative;}#sk-container-id-8 div.sk-item {position: relative;z-index: 1;}#sk-container-id-8 div.sk-parallel {display: flex;align-items: stretch;justify-content: center;background-color: white;position: relative;}#sk-container-id-8 div.sk-item::before, #sk-container-id-8 div.sk-parallel-item::before {content: \"\";position: absolute;border-left: 1px solid gray;box-sizing: border-box;top: 0;bottom: 0;left: 50%;z-index: -1;}#sk-container-id-8 div.sk-parallel-item {display: flex;flex-direction: column;z-index: 1;position: relative;background-color: white;}#sk-container-id-8 div.sk-parallel-item:first-child::after {align-self: flex-end;width: 50%;}#sk-container-id-8 div.sk-parallel-item:last-child::after {align-self: flex-start;width: 50%;}#sk-container-id-8 div.sk-parallel-item:only-child::after {width: 0;}#sk-container-id-8 div.sk-dashed-wrapped {border: 1px dashed gray;margin: 0 0.4em 0.5em 0.4em;box-sizing: border-box;padding-bottom: 0.4em;background-color: white;}#sk-container-id-8 div.sk-label label {font-family: monospace;font-weight: bold;display: inline-block;line-height: 1.2em;}#sk-container-id-8 div.sk-label-container {text-align: center;}#sk-container-id-8 div.sk-container {/* jupyter's `normalize.less` sets `[hidden] { display: none; }` but bootstrap.min.css set `[hidden] { display: none !important; }` so we also need the `!important` here to be able to override the default hidden behavior on the sphinx rendered scikit-learn.org. See: https://github.com/scikit-learn/scikit-learn/issues/21755 */display: inline-block !important;position: relative;}#sk-container-id-8 div.sk-text-repr-fallback {display: none;}</style><div id=\"sk-container-id-8\" class=\"sk-top-container\"><div class=\"sk-text-repr-fallback\"><pre>StandardScaler()</pre><b>In a Jupyter environment, please rerun this cell to show the HTML representation or trust the notebook. <br />On GitHub, the HTML representation is unable to render, please try loading this page with nbviewer.org.</b></div><div class=\"sk-container\" hidden><div class=\"sk-item\"><div class=\"sk-estimator sk-toggleable\"><input class=\"sk-toggleable__control sk-hidden--visually\" id=\"sk-estimator-id-8\" type=\"checkbox\" checked><label for=\"sk-estimator-id-8\" class=\"sk-toggleable__label sk-toggleable__label-arrow\">StandardScaler</label><div class=\"sk-toggleable__content\"><pre>StandardScaler()</pre></div></div></div></div></div>"
      ],
      "text/plain": [
       "StandardScaler()"
      ]
     },
     "execution_count": 127,
     "metadata": {},
     "output_type": "execute_result"
    }
   ],
   "source": [
    "std_scaler = StandardScaler()\n",
    "\n",
    "std_scaler.fit(X)"
   ]
  },
  {
   "cell_type": "code",
   "execution_count": 128,
   "metadata": {},
   "outputs": [],
   "source": [
    "X_scaled = std_scaler.transform(X)"
   ]
  },
  {
   "cell_type": "code",
   "execution_count": 129,
   "metadata": {},
   "outputs": [],
   "source": [
    "X_train, X_test, y_train, y_test = train_test_split(X_scaled, y, test_size=0.2, random_state=42)"
   ]
  },
  {
   "cell_type": "code",
   "execution_count": 130,
   "metadata": {},
   "outputs": [],
   "source": [
    "input_dim = X_train.shape[1]\n",
    "output_dim = y.shape[1]"
   ]
  },
  {
   "cell_type": "code",
   "execution_count": 131,
   "metadata": {},
   "outputs": [],
   "source": [
    "model = tf.keras.Sequential([\n",
    "    tf.keras.layers.Input(shape=(input_dim,)),\n",
    "    tf.keras.layers.Dense(output_dim, activation='softmax')\n",
    "])"
   ]
  },
  {
   "cell_type": "code",
   "execution_count": 134,
   "metadata": {},
   "outputs": [],
   "source": [
    "model.compile(loss='mean_squared_error', optimizer='adam', metrics=['accuracy'])"
   ]
  },
  {
   "cell_type": "code",
   "execution_count": 135,
   "metadata": {},
   "outputs": [
    {
     "name": "stdout",
     "output_type": "stream",
     "text": [
      "Epoch 1/100\n",
      "88/88 [==============================] - 0s 3ms/step - loss: 0.1296 - accuracy: 0.2364 - val_loss: 0.1179 - val_accuracy: 0.3462\n",
      "Epoch 2/100\n",
      "88/88 [==============================] - 0s 1ms/step - loss: 0.1048 - accuracy: 0.4327 - val_loss: 0.0980 - val_accuracy: 0.4615\n",
      "Epoch 3/100\n",
      "88/88 [==============================] - 0s 1ms/step - loss: 0.0942 - accuracy: 0.4900 - val_loss: 0.0922 - val_accuracy: 0.5128\n",
      "Epoch 4/100\n",
      "88/88 [==============================] - 0s 1ms/step - loss: 0.0894 - accuracy: 0.5330 - val_loss: 0.0873 - val_accuracy: 0.5513\n",
      "Epoch 5/100\n",
      "88/88 [==============================] - 0s 1ms/step - loss: 0.0858 - accuracy: 0.5638 - val_loss: 0.0830 - val_accuracy: 0.5641\n",
      "Epoch 6/100\n",
      "88/88 [==============================] - 0s 1ms/step - loss: 0.0827 - accuracy: 0.5888 - val_loss: 0.0796 - val_accuracy: 0.5897\n",
      "Epoch 7/100\n",
      "88/88 [==============================] - 0s 1ms/step - loss: 0.0803 - accuracy: 0.6067 - val_loss: 0.0770 - val_accuracy: 0.6154\n",
      "Epoch 8/100\n",
      "88/88 [==============================] - 0s 1ms/step - loss: 0.0783 - accuracy: 0.6246 - val_loss: 0.0747 - val_accuracy: 0.6282\n",
      "Epoch 9/100\n",
      "88/88 [==============================] - 0s 1ms/step - loss: 0.0765 - accuracy: 0.6318 - val_loss: 0.0727 - val_accuracy: 0.6346\n",
      "Epoch 10/100\n",
      "88/88 [==============================] - 0s 1ms/step - loss: 0.0749 - accuracy: 0.6361 - val_loss: 0.0708 - val_accuracy: 0.6538\n",
      "Epoch 11/100\n",
      "88/88 [==============================] - 0s 1ms/step - loss: 0.0734 - accuracy: 0.6383 - val_loss: 0.0690 - val_accuracy: 0.6538\n",
      "Epoch 12/100\n",
      "88/88 [==============================] - 0s 1ms/step - loss: 0.0721 - accuracy: 0.6454 - val_loss: 0.0676 - val_accuracy: 0.6667\n",
      "Epoch 13/100\n",
      "88/88 [==============================] - 0s 1ms/step - loss: 0.0709 - accuracy: 0.6576 - val_loss: 0.0672 - val_accuracy: 0.6667\n",
      "Epoch 14/100\n",
      "88/88 [==============================] - 0s 1ms/step - loss: 0.0699 - accuracy: 0.6590 - val_loss: 0.0663 - val_accuracy: 0.6795\n",
      "Epoch 15/100\n",
      "88/88 [==============================] - 0s 1ms/step - loss: 0.0689 - accuracy: 0.6683 - val_loss: 0.0654 - val_accuracy: 0.6859\n",
      "Epoch 16/100\n",
      "88/88 [==============================] - 0s 1ms/step - loss: 0.0680 - accuracy: 0.6698 - val_loss: 0.0646 - val_accuracy: 0.7051\n",
      "Epoch 17/100\n",
      "88/88 [==============================] - 0s 1ms/step - loss: 0.0672 - accuracy: 0.6798 - val_loss: 0.0636 - val_accuracy: 0.7115\n",
      "Epoch 18/100\n",
      "88/88 [==============================] - 0s 1ms/step - loss: 0.0665 - accuracy: 0.6777 - val_loss: 0.0630 - val_accuracy: 0.7115\n",
      "Epoch 19/100\n",
      "88/88 [==============================] - 0s 1ms/step - loss: 0.0658 - accuracy: 0.6848 - val_loss: 0.0624 - val_accuracy: 0.7179\n",
      "Epoch 20/100\n",
      "88/88 [==============================] - 0s 1ms/step - loss: 0.0653 - accuracy: 0.6891 - val_loss: 0.0619 - val_accuracy: 0.7179\n",
      "Epoch 21/100\n",
      "88/88 [==============================] - 0s 1ms/step - loss: 0.0647 - accuracy: 0.6891 - val_loss: 0.0614 - val_accuracy: 0.7308\n",
      "Epoch 22/100\n",
      "88/88 [==============================] - 0s 1ms/step - loss: 0.0642 - accuracy: 0.6920 - val_loss: 0.0609 - val_accuracy: 0.7308\n",
      "Epoch 23/100\n",
      "88/88 [==============================] - 0s 1ms/step - loss: 0.0637 - accuracy: 0.6934 - val_loss: 0.0606 - val_accuracy: 0.7244\n",
      "Epoch 24/100\n",
      "88/88 [==============================] - 0s 1ms/step - loss: 0.0633 - accuracy: 0.6984 - val_loss: 0.0603 - val_accuracy: 0.7179\n",
      "Epoch 25/100\n",
      "88/88 [==============================] - 0s 1ms/step - loss: 0.0628 - accuracy: 0.6984 - val_loss: 0.0600 - val_accuracy: 0.7179\n",
      "Epoch 26/100\n",
      "88/88 [==============================] - 0s 1ms/step - loss: 0.0624 - accuracy: 0.7027 - val_loss: 0.0596 - val_accuracy: 0.7115\n",
      "Epoch 27/100\n",
      "88/88 [==============================] - 0s 1ms/step - loss: 0.0618 - accuracy: 0.7049 - val_loss: 0.0595 - val_accuracy: 0.7115\n",
      "Epoch 28/100\n",
      "88/88 [==============================] - 0s 1ms/step - loss: 0.0614 - accuracy: 0.7042 - val_loss: 0.0590 - val_accuracy: 0.7051\n",
      "Epoch 29/100\n",
      "88/88 [==============================] - 0s 1ms/step - loss: 0.0609 - accuracy: 0.7106 - val_loss: 0.0587 - val_accuracy: 0.7179\n",
      "Epoch 30/100\n",
      "88/88 [==============================] - 0s 1ms/step - loss: 0.0605 - accuracy: 0.7156 - val_loss: 0.0582 - val_accuracy: 0.7244\n",
      "Epoch 31/100\n",
      "88/88 [==============================] - 0s 1ms/step - loss: 0.0601 - accuracy: 0.7149 - val_loss: 0.0578 - val_accuracy: 0.7244\n",
      "Epoch 32/100\n",
      "88/88 [==============================] - 0s 1ms/step - loss: 0.0597 - accuracy: 0.7185 - val_loss: 0.0576 - val_accuracy: 0.7308\n",
      "Epoch 33/100\n",
      "88/88 [==============================] - 0s 1ms/step - loss: 0.0595 - accuracy: 0.7185 - val_loss: 0.0572 - val_accuracy: 0.7308\n",
      "Epoch 34/100\n",
      "88/88 [==============================] - 0s 1ms/step - loss: 0.0593 - accuracy: 0.7213 - val_loss: 0.0569 - val_accuracy: 0.7308\n",
      "Epoch 35/100\n",
      "88/88 [==============================] - 0s 1ms/step - loss: 0.0590 - accuracy: 0.7264 - val_loss: 0.0565 - val_accuracy: 0.7372\n",
      "Epoch 36/100\n",
      "88/88 [==============================] - 0s 1ms/step - loss: 0.0588 - accuracy: 0.7271 - val_loss: 0.0564 - val_accuracy: 0.7372\n",
      "Epoch 37/100\n",
      "88/88 [==============================] - 0s 1ms/step - loss: 0.0586 - accuracy: 0.7314 - val_loss: 0.0562 - val_accuracy: 0.7436\n",
      "Epoch 38/100\n",
      "88/88 [==============================] - 0s 1ms/step - loss: 0.0584 - accuracy: 0.7264 - val_loss: 0.0559 - val_accuracy: 0.7436\n",
      "Epoch 39/100\n",
      "88/88 [==============================] - 0s 1ms/step - loss: 0.0583 - accuracy: 0.7314 - val_loss: 0.0558 - val_accuracy: 0.7436\n",
      "Epoch 40/100\n",
      "88/88 [==============================] - 0s 1ms/step - loss: 0.0580 - accuracy: 0.7271 - val_loss: 0.0557 - val_accuracy: 0.7436\n",
      "Epoch 41/100\n",
      "88/88 [==============================] - 0s 1ms/step - loss: 0.0579 - accuracy: 0.7307 - val_loss: 0.0555 - val_accuracy: 0.7436\n",
      "Epoch 42/100\n",
      "88/88 [==============================] - 0s 1ms/step - loss: 0.0578 - accuracy: 0.7328 - val_loss: 0.0553 - val_accuracy: 0.7436\n",
      "Epoch 43/100\n",
      "88/88 [==============================] - 0s 1ms/step - loss: 0.0576 - accuracy: 0.7292 - val_loss: 0.0550 - val_accuracy: 0.7436\n",
      "Epoch 44/100\n",
      "88/88 [==============================] - 0s 1ms/step - loss: 0.0574 - accuracy: 0.7292 - val_loss: 0.0549 - val_accuracy: 0.7436\n",
      "Epoch 45/100\n",
      "88/88 [==============================] - 0s 1ms/step - loss: 0.0573 - accuracy: 0.7292 - val_loss: 0.0549 - val_accuracy: 0.7372\n",
      "Epoch 46/100\n",
      "88/88 [==============================] - 0s 1ms/step - loss: 0.0572 - accuracy: 0.7285 - val_loss: 0.0548 - val_accuracy: 0.7372\n",
      "Epoch 47/100\n",
      "88/88 [==============================] - 0s 1ms/step - loss: 0.0571 - accuracy: 0.7321 - val_loss: 0.0548 - val_accuracy: 0.7372\n",
      "Epoch 48/100\n",
      "88/88 [==============================] - 0s 1ms/step - loss: 0.0570 - accuracy: 0.7307 - val_loss: 0.0547 - val_accuracy: 0.7372\n",
      "Epoch 49/100\n",
      "88/88 [==============================] - 0s 1ms/step - loss: 0.0569 - accuracy: 0.7307 - val_loss: 0.0545 - val_accuracy: 0.7372\n",
      "Epoch 50/100\n",
      "88/88 [==============================] - 0s 1ms/step - loss: 0.0567 - accuracy: 0.7328 - val_loss: 0.0545 - val_accuracy: 0.7308\n",
      "Epoch 51/100\n",
      "88/88 [==============================] - 0s 1ms/step - loss: 0.0566 - accuracy: 0.7328 - val_loss: 0.0544 - val_accuracy: 0.7308\n",
      "Epoch 52/100\n",
      "88/88 [==============================] - 0s 1ms/step - loss: 0.0565 - accuracy: 0.7328 - val_loss: 0.0543 - val_accuracy: 0.7372\n",
      "Epoch 53/100\n",
      "88/88 [==============================] - 0s 1ms/step - loss: 0.0564 - accuracy: 0.7342 - val_loss: 0.0543 - val_accuracy: 0.7372\n",
      "Epoch 54/100\n",
      "88/88 [==============================] - 0s 1ms/step - loss: 0.0563 - accuracy: 0.7342 - val_loss: 0.0542 - val_accuracy: 0.7372\n",
      "Epoch 55/100\n",
      "88/88 [==============================] - 0s 1ms/step - loss: 0.0562 - accuracy: 0.7350 - val_loss: 0.0541 - val_accuracy: 0.7372\n",
      "Epoch 56/100\n",
      "88/88 [==============================] - 0s 1ms/step - loss: 0.0562 - accuracy: 0.7364 - val_loss: 0.0540 - val_accuracy: 0.7436\n",
      "Epoch 57/100\n",
      "88/88 [==============================] - 0s 1ms/step - loss: 0.0560 - accuracy: 0.7364 - val_loss: 0.0539 - val_accuracy: 0.7372\n",
      "Epoch 58/100\n",
      "88/88 [==============================] - 0s 1ms/step - loss: 0.0559 - accuracy: 0.7350 - val_loss: 0.0539 - val_accuracy: 0.7436\n",
      "Epoch 59/100\n",
      "88/88 [==============================] - 0s 1ms/step - loss: 0.0559 - accuracy: 0.7357 - val_loss: 0.0540 - val_accuracy: 0.7372\n",
      "Epoch 60/100\n",
      "88/88 [==============================] - 0s 1ms/step - loss: 0.0558 - accuracy: 0.7357 - val_loss: 0.0539 - val_accuracy: 0.7372\n",
      "Epoch 61/100\n",
      "88/88 [==============================] - 0s 1ms/step - loss: 0.0557 - accuracy: 0.7350 - val_loss: 0.0539 - val_accuracy: 0.7436\n",
      "Epoch 62/100\n",
      "88/88 [==============================] - 0s 1ms/step - loss: 0.0557 - accuracy: 0.7350 - val_loss: 0.0538 - val_accuracy: 0.7436\n",
      "Epoch 63/100\n",
      "88/88 [==============================] - 0s 1ms/step - loss: 0.0556 - accuracy: 0.7357 - val_loss: 0.0537 - val_accuracy: 0.7436\n",
      "Epoch 64/100\n",
      "88/88 [==============================] - 0s 1ms/step - loss: 0.0555 - accuracy: 0.7364 - val_loss: 0.0537 - val_accuracy: 0.7372\n",
      "Epoch 65/100\n",
      "88/88 [==============================] - 0s 1ms/step - loss: 0.0554 - accuracy: 0.7350 - val_loss: 0.0537 - val_accuracy: 0.7436\n",
      "Epoch 66/100\n",
      "88/88 [==============================] - 0s 1ms/step - loss: 0.0554 - accuracy: 0.7335 - val_loss: 0.0536 - val_accuracy: 0.7436\n",
      "Epoch 67/100\n",
      "88/88 [==============================] - 0s 1ms/step - loss: 0.0554 - accuracy: 0.7350 - val_loss: 0.0537 - val_accuracy: 0.7372\n",
      "Epoch 68/100\n",
      "88/88 [==============================] - 0s 1ms/step - loss: 0.0553 - accuracy: 0.7364 - val_loss: 0.0536 - val_accuracy: 0.7436\n",
      "Epoch 69/100\n",
      "88/88 [==============================] - 0s 1ms/step - loss: 0.0552 - accuracy: 0.7371 - val_loss: 0.0537 - val_accuracy: 0.7372\n",
      "Epoch 70/100\n",
      "88/88 [==============================] - 0s 1ms/step - loss: 0.0552 - accuracy: 0.7357 - val_loss: 0.0537 - val_accuracy: 0.7372\n",
      "Epoch 71/100\n",
      "88/88 [==============================] - 0s 1ms/step - loss: 0.0551 - accuracy: 0.7357 - val_loss: 0.0536 - val_accuracy: 0.7372\n",
      "Epoch 72/100\n",
      "88/88 [==============================] - 0s 1ms/step - loss: 0.0551 - accuracy: 0.7364 - val_loss: 0.0535 - val_accuracy: 0.7436\n",
      "Epoch 73/100\n",
      "88/88 [==============================] - 0s 1ms/step - loss: 0.0550 - accuracy: 0.7328 - val_loss: 0.0535 - val_accuracy: 0.7372\n",
      "Epoch 74/100\n",
      "88/88 [==============================] - 0s 1ms/step - loss: 0.0549 - accuracy: 0.7357 - val_loss: 0.0535 - val_accuracy: 0.7372\n",
      "Epoch 75/100\n",
      "88/88 [==============================] - 0s 1ms/step - loss: 0.0549 - accuracy: 0.7350 - val_loss: 0.0535 - val_accuracy: 0.7372\n",
      "Epoch 76/100\n",
      "88/88 [==============================] - 0s 1ms/step - loss: 0.0549 - accuracy: 0.7371 - val_loss: 0.0535 - val_accuracy: 0.7372\n",
      "Epoch 77/100\n",
      "88/88 [==============================] - 0s 1ms/step - loss: 0.0548 - accuracy: 0.7350 - val_loss: 0.0535 - val_accuracy: 0.7372\n",
      "Epoch 78/100\n",
      "88/88 [==============================] - 0s 1ms/step - loss: 0.0548 - accuracy: 0.7350 - val_loss: 0.0534 - val_accuracy: 0.7372\n",
      "Epoch 79/100\n",
      "88/88 [==============================] - 0s 1ms/step - loss: 0.0547 - accuracy: 0.7357 - val_loss: 0.0534 - val_accuracy: 0.7372\n",
      "Epoch 80/100\n",
      "88/88 [==============================] - 0s 1ms/step - loss: 0.0547 - accuracy: 0.7378 - val_loss: 0.0534 - val_accuracy: 0.7308\n",
      "Epoch 81/100\n",
      "88/88 [==============================] - 0s 1ms/step - loss: 0.0546 - accuracy: 0.7350 - val_loss: 0.0534 - val_accuracy: 0.7372\n",
      "Epoch 82/100\n",
      "88/88 [==============================] - 0s 1ms/step - loss: 0.0546 - accuracy: 0.7342 - val_loss: 0.0534 - val_accuracy: 0.7372\n",
      "Epoch 83/100\n",
      "88/88 [==============================] - 0s 1ms/step - loss: 0.0545 - accuracy: 0.7385 - val_loss: 0.0533 - val_accuracy: 0.7372\n",
      "Epoch 84/100\n",
      "88/88 [==============================] - 0s 1ms/step - loss: 0.0545 - accuracy: 0.7393 - val_loss: 0.0534 - val_accuracy: 0.7372\n",
      "Epoch 85/100\n",
      "88/88 [==============================] - 0s 1ms/step - loss: 0.0544 - accuracy: 0.7350 - val_loss: 0.0533 - val_accuracy: 0.7372\n",
      "Epoch 86/100\n",
      "88/88 [==============================] - 0s 1ms/step - loss: 0.0544 - accuracy: 0.7357 - val_loss: 0.0534 - val_accuracy: 0.7372\n",
      "Epoch 87/100\n",
      "88/88 [==============================] - 0s 1ms/step - loss: 0.0543 - accuracy: 0.7414 - val_loss: 0.0533 - val_accuracy: 0.7372\n",
      "Epoch 88/100\n",
      "88/88 [==============================] - 0s 1ms/step - loss: 0.0544 - accuracy: 0.7385 - val_loss: 0.0534 - val_accuracy: 0.7372\n",
      "Epoch 89/100\n",
      "88/88 [==============================] - 0s 1ms/step - loss: 0.0543 - accuracy: 0.7350 - val_loss: 0.0535 - val_accuracy: 0.7436\n",
      "Epoch 90/100\n",
      "88/88 [==============================] - 0s 1ms/step - loss: 0.0543 - accuracy: 0.7393 - val_loss: 0.0534 - val_accuracy: 0.7372\n",
      "Epoch 91/100\n",
      "88/88 [==============================] - 0s 1ms/step - loss: 0.0543 - accuracy: 0.7364 - val_loss: 0.0533 - val_accuracy: 0.7372\n",
      "Epoch 92/100\n",
      "88/88 [==============================] - 0s 1ms/step - loss: 0.0542 - accuracy: 0.7393 - val_loss: 0.0534 - val_accuracy: 0.7372\n",
      "Epoch 93/100\n",
      "88/88 [==============================] - 0s 1ms/step - loss: 0.0541 - accuracy: 0.7371 - val_loss: 0.0534 - val_accuracy: 0.7372\n",
      "Epoch 94/100\n",
      "88/88 [==============================] - 0s 1ms/step - loss: 0.0542 - accuracy: 0.7378 - val_loss: 0.0534 - val_accuracy: 0.7372\n",
      "Epoch 95/100\n",
      "88/88 [==============================] - 0s 1ms/step - loss: 0.0541 - accuracy: 0.7393 - val_loss: 0.0533 - val_accuracy: 0.7372\n",
      "Epoch 96/100\n",
      "88/88 [==============================] - 0s 1ms/step - loss: 0.0540 - accuracy: 0.7364 - val_loss: 0.0533 - val_accuracy: 0.7372\n",
      "Epoch 97/100\n",
      "88/88 [==============================] - 0s 1ms/step - loss: 0.0540 - accuracy: 0.7393 - val_loss: 0.0533 - val_accuracy: 0.7372\n",
      "Epoch 98/100\n",
      "88/88 [==============================] - 0s 1ms/step - loss: 0.0540 - accuracy: 0.7364 - val_loss: 0.0532 - val_accuracy: 0.7372\n",
      "Epoch 99/100\n",
      "88/88 [==============================] - 0s 1ms/step - loss: 0.0539 - accuracy: 0.7385 - val_loss: 0.0534 - val_accuracy: 0.7372\n",
      "Epoch 100/100\n",
      "88/88 [==============================] - 0s 1ms/step - loss: 0.0540 - accuracy: 0.7364 - val_loss: 0.0534 - val_accuracy: 0.7372\n"
     ]
    },
    {
     "data": {
      "text/plain": [
       "<keras.src.callbacks.History at 0x1ca1501db80>"
      ]
     },
     "execution_count": 135,
     "metadata": {},
     "output_type": "execute_result"
    }
   ],
   "source": [
    "epochs = 100\n",
    "batch_size = 16\n",
    "model.fit(X_train, y_train, epochs=epochs, batch_size=batch_size, validation_split=0.1)"
   ]
  },
  {
   "cell_type": "code",
   "execution_count": 136,
   "metadata": {},
   "outputs": [
    {
     "name": "stdout",
     "output_type": "stream",
     "text": [
      "13/13 [==============================] - 0s 1000us/step - loss: 0.0554 - accuracy: 0.7404\n",
      "Test Loss: 0.0554, Test Accuracy: 0.7404\n"
     ]
    }
   ],
   "source": [
    "loss, accuracy = model.evaluate(X_test, y_test)\n",
    "print(f\"Test Loss: {loss:.4f}, Test Accuracy: {accuracy:.4f}\")"
   ]
  },
  {
   "cell_type": "code",
   "execution_count": 137,
   "metadata": {},
   "outputs": [
    {
     "name": "stderr",
     "output_type": "stream",
     "text": [
      "c:\\Users\\cho\\anaconda3\\envs\\practice\\lib\\site-packages\\keras\\src\\engine\\training.py:3000: UserWarning: You are saving your model as an HDF5 file via `model.save()`. This file format is considered legacy. We recommend using instead the native Keras format, e.g. `model.save('my_model.keras')`.\n",
      "  saving_api.save_model(\n"
     ]
    }
   ],
   "source": [
    "model.save('model.h5')"
   ]
  }
 ],
 "metadata": {
  "kernelspec": {
   "display_name": "practice",
   "language": "python",
   "name": "python3"
  },
  "language_info": {
   "codemirror_mode": {
    "name": "ipython",
    "version": 3
   },
   "file_extension": ".py",
   "mimetype": "text/x-python",
   "name": "python",
   "nbconvert_exporter": "python",
   "pygments_lexer": "ipython3",
   "version": "3.8.16"
  },
  "orig_nbformat": 4
 },
 "nbformat": 4,
 "nbformat_minor": 2
}
